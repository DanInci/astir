{
 "cells": [
  {
   "cell_type": "code",
   "execution_count": 1,
   "metadata": {},
   "outputs": [],
   "source": [
    "# append the parent folder of ark to sys.path\n",
    "import sys\n",
    "sys.path.append(r\"E:\\Users\\Claris_Gu\\PycharmProjects\\python_project\\Cell Segmentation\\astir\")"
   ]
  },
  {
   "cell_type": "code",
   "execution_count": 5,
   "metadata": {},
   "outputs": [],
   "source": [
    "import anndata\n",
    "from astir.data import from_csv_yaml # ignoring warnings since importing from local installation of astir\n",
    "import yaml\n",
    "import os"
   ]
  },
  {
   "cell_type": "markdown",
   "metadata": {},
   "source": [
    "## Load ICI-mean-intensity data"
   ]
  },
  {
   "cell_type": "code",
   "execution_count": 6,
   "metadata": {},
   "outputs": [],
   "source": [
    "sep = '\\t'\n",
    "usecols = ['Cell_ID', 'CD45', 'CD4', 'CD68', 'CD20', \n",
    "            'CD8a', 'SOX10', 'CD40', 'CD3', 'S100', 'CD14', \n",
    "            'CD31']\n",
    "ICI_dir = 'ICI'"
   ]
  },
  {
   "cell_type": "code",
   "execution_count": 7,
   "metadata": {},
   "outputs": [
    {
     "name": "stdout",
     "output_type": "stream",
     "text": [
      "{'Cytotoxic T cell': ['CD3', 'CD45', 'CD8a'], 'Helper T cell': ['CD3', 'CD45', 'CD4'], 'B cell': ['CD20'], 'Melenoma cell': ['SOX10', 'S100'], 'Vascular differentiation': ['CD31'], 'Macrophage': ['CD14', 'CD68']}\n"
     ]
    }
   ],
   "source": [
    "# Read in yaml file for illustration purposes\n",
    "with open(os.path.join(ICI_dir, 'ICI_markers.yml'), 'r') as file:\n",
    "  cell_types = yaml.load(file)\n",
    "\n",
    "  print(cell_types['cell_types'])"
   ]
  },
  {
   "cell_type": "code",
   "execution_count": 8,
   "metadata": {},
   "outputs": [
    {
     "ename": "TypeError",
     "evalue": "from_csv_yaml() got an unexpected keyword argument 'sep'",
     "output_type": "error",
     "traceback": [
      "\u001b[1;31m---------------------------------------------------------------------------\u001b[0m",
      "\u001b[1;31mTypeError\u001b[0m                                 Traceback (most recent call last)",
      "\u001b[1;32me:\\Users\\Claris_Gu\\PycharmProjects\\python_project\\Cell Segmentation\\astir\\astir_classification.ipynb Cell 6\u001b[0m in \u001b[0;36m<cell line: 1>\u001b[1;34m()\u001b[0m\n\u001b[1;32m----> <a href='vscode-notebook-cell:/e%3A/Users/Claris_Gu/PycharmProjects/python_project/Cell%20Segmentation/astir/astir_classification.ipynb#ch0000006?line=0'>1</a>\u001b[0m ast \u001b[39m=\u001b[39m from_csv_yaml(os\u001b[39m.\u001b[39;49mpath\u001b[39m.\u001b[39;49mjoin(ICI_dir, \u001b[39m\"\u001b[39;49m\u001b[39mICI_meanIntensity.tsv\u001b[39;49m\u001b[39m\"\u001b[39;49m), os\u001b[39m.\u001b[39;49mpath\u001b[39m.\u001b[39;49mjoin(ICI_dir, \u001b[39m\"\u001b[39;49m\u001b[39mICI_markers.tsv\u001b[39;49m\u001b[39m\"\u001b[39;49m), sep\u001b[39m=\u001b[39;49msep, usecols\u001b[39m=\u001b[39;49musecols)\n\u001b[0;32m      <a href='vscode-notebook-cell:/e%3A/Users/Claris_Gu/PycharmProjects/python_project/Cell%20Segmentation/astir/astir_classification.ipynb#ch0000006?line=1'>2</a>\u001b[0m ast\n",
      "\u001b[1;31mTypeError\u001b[0m: from_csv_yaml() got an unexpected keyword argument 'sep'"
     ]
    }
   ],
   "source": [
    "ast = from_csv_yaml(os.path.join(ICI_dir, \"ICI_meanIntensity.tsv\"), os.path.join(ICI_dir, \"ICI_markers.tsv\"), sep=sep, usecols=usecols)\n",
    "ast"
   ]
  }
 ],
 "metadata": {
  "kernelspec": {
   "display_name": "Python 3.8.13 ('imc')",
   "language": "python",
   "name": "python3"
  },
  "language_info": {
   "codemirror_mode": {
    "name": "ipython",
    "version": 3
   },
   "file_extension": ".py",
   "mimetype": "text/x-python",
   "name": "python",
   "nbconvert_exporter": "python",
   "pygments_lexer": "ipython3",
   "version": "3.8.13"
  },
  "orig_nbformat": 4,
  "vscode": {
   "interpreter": {
    "hash": "ef270c1360721bfcd6ea979f263434dec80c3426f53c044293e83d0d5f2bb717"
   }
  }
 },
 "nbformat": 4,
 "nbformat_minor": 2
}
