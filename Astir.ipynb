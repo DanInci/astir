{
 "cells": [
  {
   "cell_type": "markdown",
   "metadata": {
    "id": "9sg4xuIYtoc3"
   },
   "source": [
    "# Welcome to Astir\n",
    "### A cell type assignment algorithm for single cell multiplexed imaging and proteomic data.\n",
    "\n",
    "This is a reproducible notebook with some sample data for you to explore Astir's capability."
   ]
  },
  {
   "cell_type": "code",
   "execution_count": null,
   "metadata": {},
   "outputs": [],
   "source": [
    "import os\n",
    "import json\n",
    "import yaml\n",
    "import argparse\n",
    "\n",
    "import scanpy\n",
    "import anndata as ad\n",
    "import pandas as pd\n",
    "import numpy as np\n",
    "\n",
    "from itertools import chain\n",
    "from sklearn.metrics import adjusted_rand_score\n",
    "\n",
    "from astir.data import from_anndata_yaml"
   ]
  },
  {
   "cell_type": "code",
   "execution_count": null,
   "metadata": {},
   "outputs": [],
   "source": [
    "INTEGRATION_METHOD = 'exprs'\n",
    "DATASET = 'IMMUcan_2022_CancerExample'\n",
    "EXPERIMENT_DIR = f\"/home/dani/Documents/Thesis/Methods/IMCBenchmark/output/{DATASET}/astir/{INTEGRATION_METHOD}\"\n",
    "CONFIG_PATH = os.path.join(EXPERIMENT_DIR, 'config.json')\n",
    "\n",
    "# load the params\n",
    "with open(CONFIG_PATH) as f:\n",
    "    config = json.load(f)"
   ]
  },
  {
   "cell_type": "code",
   "execution_count": null,
   "metadata": {},
   "outputs": [],
   "source": [
    "parser = argparse.ArgumentParser(description='astir')\n",
    "\n",
    "args = parser.parse_args(args=[])\n",
    "args.dataset = config['dataset']\n",
    "args.markers = config['markers']\n",
    "args.threshold = config['results_threshold']\n",
    "args.max_epochs = config['max_epochs']\n",
    "args.learning_rate = config['learning_rate']\n",
    "args.batch_size = config['batch_size']\n",
    "args.delta_loss = config['delta_loss']\n",
    "args.n_init = config['n_init']\n",
    "args.n_init_epochs = config['n_init_epochs']\n",
    "args.seed = config['seed']"
   ]
  },
  {
   "cell_type": "code",
   "execution_count": null,
   "metadata": {},
   "outputs": [],
   "source": [
    "args.threshold = 0.5"
   ]
  },
  {
   "cell_type": "code",
   "execution_count": null,
   "metadata": {},
   "outputs": [],
   "source": [
    "args"
   ]
  },
  {
   "cell_type": "markdown",
   "metadata": {
    "id": "yypZLdXMw1NZ"
   },
   "source": [
    "## Load data"
   ]
  },
  {
   "cell_type": "code",
   "execution_count": null,
   "metadata": {},
   "outputs": [],
   "source": [
    "adata = ad.read_h5ad(args.dataset)\n",
    "\n",
    "adata.obs"
   ]
  },
  {
   "cell_type": "markdown",
   "metadata": {},
   "source": [
    "Load marker file for each cell type of interest"
   ]
  },
  {
   "cell_type": "code",
   "execution_count": null,
   "metadata": {},
   "outputs": [],
   "source": [
    "with open(args.markers, 'r') as file:\n",
    "    markers_file = yaml.load(file, Loader=yaml.FullLoader)\n",
    "    \n",
    "print(markers_file['cell_types'])"
   ]
  },
  {
   "cell_type": "markdown",
   "metadata": {
    "id": "d0T0LOndulcm"
   },
   "source": [
    "## Creating an Astir object\n",
    "\n",
    "Next, we need to convert the AnnData object into an Astir object. This also requires a list of marker files for each cell type of interest.\n",
    "\n",
    "\n",
    "\n"
   ]
  },
  {
   "cell_type": "code",
   "execution_count": null,
   "metadata": {
    "colab": {
     "base_uri": "https://localhost:8080/"
    },
    "id": "tp31g7TfihnC",
    "outputId": "fe1e0b6e-4a5e-49af-99d1-61cb03a6c519"
   },
   "outputs": [],
   "source": [
    "astir = from_anndata_yaml(\n",
    "    anndata_file = args.dataset, \n",
    "    marker_yaml = args.markers, \n",
    "    create_design_mat = True, \n",
    "    random_seed = args.seed\n",
    ")\n",
    "\n",
    "astir"
   ]
  },
  {
   "cell_type": "markdown",
   "metadata": {
    "id": "zXcI2l3yyEgc"
   },
   "source": [
    "## Training the model\n",
    "\n",
    "Astir takes the following as input:\n",
    "\n",
    "\n",
    "*   Batch size\n",
    "*   Maximum number of epochs\n",
    "*   A learning rate\n",
    "*   An initial set of epochs\n",
    "\n",
    "\n"
   ]
  },
  {
   "cell_type": "markdown",
   "metadata": {
    "id": "TZKAoCqXyXsE"
   },
   "source": [
    "To assign cell types simply call `fit_type` as follows."
   ]
  },
  {
   "cell_type": "code",
   "execution_count": null,
   "metadata": {
    "colab": {
     "base_uri": "https://localhost:8080/"
    },
    "id": "GGDWEBz_qIa-",
    "outputId": "e1fa116d-aecc-46ec-fff9-e1322a3b5425"
   },
   "outputs": [],
   "source": [
    "astir.fit_type(\n",
    "    max_epochs = args.max_epochs,\n",
    "    batch_size = args.batch_size,\n",
    "    learning_rate = args.learning_rate,\n",
    "    delta_loss = args.delta_loss,\n",
    "    n_init = args.n_init,\n",
    "    n_init_epochs = args.n_init_epochs\n",
    ")"
   ]
  },
  {
   "cell_type": "markdown",
   "metadata": {
    "id": "LuZCR_R8LdlZ"
   },
   "source": [
    "Importantly, Astir automatically creates a design matrix based on on additional covariates in the data such as batches. This is done using additional columns already present in the input data. In the example data of this vignette we have included a 'batch' column for the purposes of illustration."
   ]
  },
  {
   "cell_type": "markdown",
   "metadata": {
    "id": "Rh_J-bE_yhIg"
   },
   "source": [
    "We can get the cell type assignments in one of two ways:\n",
    "1. Using `get_celltypes()`: this returns the most likely cell type or classifies a cell as unknown if no cell type has a probability above 0.7. (This threshold can be altered by the user with the threshold argument)\n",
    "2. Using `get_celltype_probabilities()`: this returns the probabilty of each cell being assigned to any given cell type."
   ]
  },
  {
   "cell_type": "code",
   "execution_count": null,
   "metadata": {
    "colab": {
     "base_uri": "https://localhost:8080/"
    },
    "id": "XgX55ITcrcnj",
    "outputId": "48b57c6f-54dd-4f3f-c0bc-a054cc4dd19e"
   },
   "outputs": [],
   "source": [
    "astir.get_celltypes(threshold=args.threshold).value_counts()"
   ]
  },
  {
   "cell_type": "code",
   "execution_count": null,
   "metadata": {
    "colab": {
     "base_uri": "https://localhost:8080/",
     "height": 419
    },
    "id": "lO0wpMqPzME0",
    "outputId": "80296171-db4f-465f-d9c6-47c35bfa996c"
   },
   "outputs": [],
   "source": [
    "astir.get_celltype_probabilities()"
   ]
  },
  {
   "cell_type": "markdown",
   "metadata": {
    "id": "b5BULz9IzjaS"
   },
   "source": [
    "## Post-fit diagnostics\n",
    "\n",
    "As a sanity check for the user, Astir also outputs a set of post-fit diagnostics. These ensure that all cell types express their marker proteins at significantly higher levels that other cells.\n"
   ]
  },
  {
   "cell_type": "code",
   "execution_count": null,
   "metadata": {
    "colab": {
     "base_uri": "https://localhost:8080/",
     "height": 297
    },
    "id": "xoTXFOpGrnXg",
    "outputId": "72fb38d0-42b2-4fa0-c0a3-d9bbed6508fa"
   },
   "outputs": [],
   "source": [
    "astir.diagnostics_celltype()"
   ]
  },
  {
   "cell_type": "markdown",
   "metadata": {
    "id": "lWKpVqpPVTQG"
   },
   "source": [
    "## Analyzing the results\n",
    "\n",
    "Now that we have assigned cell types to all cells, we can do some basic analysis."
   ]
  },
  {
   "cell_type": "code",
   "execution_count": null,
   "metadata": {
    "id": "ZrcBbpTRbVNa"
   },
   "outputs": [],
   "source": [
    "adata.obs['pred'] = astir.get_celltypes(threshold=0.7).rename(columns={'cell_type': 'pred'})\n",
    "adata.obs['pred_prob'] = astir.get_celltype_probabilities().apply(lambda row: np.max(row), axis=1)\n",
    "adata.obs['prob_list'] = astir.get_celltype_probabilities().apply(lambda row: row.tolist(), axis=1)\n",
    "\n",
    "results_df = adata.obs[['batch', 'cell_id', 'cell_type', 'pred', 'pred_prob', 'prob_list']]\n",
    "results_df = results_df.rename(columns={'batch': 'image_id', 'cell_type': 'label'})\n",
    "\n",
    "results_df.to_csv(os.path.join(EXPERIMENT_DIR, 'astir_results.csv'), index=False)\n",
    "\n",
    "results_df"
   ]
  },
  {
   "cell_type": "markdown",
   "metadata": {},
   "source": [
    "Let us start with a UMAP plot coloured by cell type. (This may take a while because it has to run UMAP first)."
   ]
  },
  {
   "cell_type": "code",
   "execution_count": null,
   "metadata": {
    "colab": {
     "base_uri": "https://localhost:8080/",
     "height": 786
    },
    "id": "y9tzMKWtWNa-",
    "outputId": "b144ccd6-e48e-4a0a-eb6a-f9b2780651a6"
   },
   "outputs": [],
   "source": [
    "scanpy.pp.neighbors(adata)\n",
    "scanpy.tl.umap(adata)\n",
    "scanpy.pl.umap(adata, color = ['cell_type', 'pred'], size = 14, ncols = 3, wspace = 0.3)"
   ]
  },
  {
   "cell_type": "code",
   "execution_count": null,
   "metadata": {
    "colab": {
     "base_uri": "https://localhost:8080/",
     "height": 285
    },
    "id": "UHX2TVych4gx",
    "outputId": "63997e7f-84b0-4a77-9f97-a9af9ef9f629"
   },
   "outputs": [],
   "source": [
    "markers = list(set(chain.from_iterable([x for x in markers_file['cell_types'].values()])))\n",
    "\n",
    "scanpy.pl.heatmap(adata, markers, groupby='pred', swap_axes=True, standard_scale='var')"
   ]
  },
  {
   "cell_type": "markdown",
   "metadata": {},
   "source": [
    "Calculate ARI score compared to ground truth labels"
   ]
  },
  {
   "cell_type": "code",
   "execution_count": null,
   "metadata": {},
   "outputs": [],
   "source": [
    "ari_score = adjusted_rand_score(results_df['label'], results_df['pred'])\n",
    "\n",
    "print(\"Adjusted Rand Index Score:\", ari_score)"
   ]
  }
 ],
 "metadata": {
  "colab": {
   "name": "astir-tutorial.ipynb",
   "provenance": []
  },
  "kernelspec": {
   "display_name": "astir",
   "language": "python",
   "name": "astir"
  },
  "language_info": {
   "codemirror_mode": {
    "name": "ipython",
    "version": 3
   },
   "file_extension": ".py",
   "mimetype": "text/x-python",
   "name": "python",
   "nbconvert_exporter": "python",
   "pygments_lexer": "ipython3",
   "version": "3.10.12"
  }
 },
 "nbformat": 4,
 "nbformat_minor": 1
}
